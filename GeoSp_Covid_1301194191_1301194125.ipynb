{
  "nbformat": 4,
  "nbformat_minor": 0,
  "metadata": {
    "colab": {
      "name": "GeoSp_Covid_1301194191_1301194125.ipynb",
      "provenance": []
    },
    "kernelspec": {
      "name": "python3",
      "display_name": "Python 3"
    },
    "language_info": {
      "name": "python"
    }
  },
  "cells": [
    {
      "cell_type": "markdown",
      "source": [
        "#Visualisasi Data Covid Indonesia 2020-2021 dalam bentuk geospatial/map interaktif dengan menggunkan modul bokeh"
      ],
      "metadata": {
        "id": "gKuPxojbTJuW"
      }
    },
    {
      "cell_type": "markdown",
      "source": [
        "---------------------------------\n",
        "\n",
        "Anggota : \n",
        "\n",
        "Dita Noviyanti (1301194125)\n",
        "\n",
        "Ridho Isral Essa (1301194191)\n",
        "\n",
        "Kelas : IF-42-GAB04\n",
        "\n",
        "link heroku : https://finalproject-visdat41914125.herokuapp.com/geosp_covid_1301194191_1301194125\n",
        "\n",
        "link youtube presentasi : https://youtu.be/opJ6UuvWgaw\n",
        "\n",
        "link github repositori : https://github.com/ditan91/Final-project-visdat\n",
        "\n",
        "------------------------------------\n"
      ],
      "metadata": {
        "id": "u8_vf2hqIQ2T"
      }
    },
    {
      "cell_type": "markdown",
      "source": [
        "#Define library yang digunakan"
      ],
      "metadata": {
        "id": "m1mkII-FJGEz"
      }
    },
    {
      "cell_type": "code",
      "execution_count": null,
      "metadata": {
        "id": "h4rWZGYvRrxM"
      },
      "outputs": [],
      "source": [
        "#install pyproj\n",
        "!pip install pyproj\n",
        "#define library\n",
        "from bokeh.io import curdoc\n",
        "from pyproj import Proj, transform\n",
        "import pandas as pd\n",
        "import datetime as dt\n",
        "from bokeh.models import DatePicker, Select, ColumnDataSource, ColorBar\n",
        "from bokeh.palettes import Spectral6\n",
        "from bokeh.transform import linear_cmap\n",
        "from bokeh.layouts import widgetbox, row\n",
        "from bokeh.plotting import figure\n",
        "from bokeh.tile_providers import get_provider, WIKIMEDIA, CARTODBPOSITRON, STAMEN_TERRAIN, STAMEN_TONER, ESRI_IMAGERY, OSM\n",
        "\n",
        "import warnings"
      ]
    },
    {
      "cell_type": "markdown",
      "source": [
        "#Import dataset"
      ],
      "metadata": {
        "id": "e7oC1nspJLQE"
      }
    },
    {
      "cell_type": "code",
      "source": [
        "#import dataset\n",
        "data = pd.read_csv('data_covid-19_indonesia.csv')\n",
        "#mengubah kolom date jadi dataset\n",
        "data.set_index('Date', inplace=True)\n",
        "\n",
        "data.head(3)"
      ],
      "metadata": {
        "id": "3FrlnsCYFcJV"
      },
      "execution_count": null,
      "outputs": []
    },
    {
      "cell_type": "markdown",
      "source": [
        "#Define cartodbpositron"
      ],
      "metadata": {
        "id": "cUkEiIgxJPpz"
      }
    },
    {
      "cell_type": "code",
      "source": [
        "#define beberapa variabel untuk membuat peta dengan cartodbpositron\n",
        "inProj = Proj(init='epsg:3857')\n",
        "outProj = Proj(init='epsg:4326')\n",
        "\n",
        "ind_lon1, ind_lat1 = transform(outProj,inProj,90,-15)\n",
        "ind_lon2, ind_lat2 = transform(outProj,inProj,150,20)\n",
        "cartodb = get_provider(CARTODBPOSITRON)"
      ],
      "metadata": {
        "id": "PEV20PbDFk2V"
      },
      "execution_count": null,
      "outputs": []
    },
    {
      "cell_type": "markdown",
      "source": [
        "#Membuat source data dengan ColumDataSource"
      ],
      "metadata": {
        "id": "P6L60SEHJaoT"
      }
    },
    {
      "cell_type": "code",
      "source": [
        "#define variabel 'df' dengan data pada tanggal 2020-03-01 \n",
        "df = data[data.index == '2020-03-01']\n",
        "\n",
        "#define variabel nam untuk menampung nama kolom yang di select\n",
        "nam = []\n",
        "for i in df.new_cases:\n",
        "    nam.append(\"new_cases\")\n",
        "\n",
        "#source digunakan untuk menampilkan data yang akan ditampilkan (data awal)\n",
        "source = ColumnDataSource(data={\n",
        "    'x'         : df.MercatorX, #define x dengan kolom mercatorX dari data dengan index tanggal 2020-03-01\n",
        "    'y'         : df.MercatorY, #define y dengan kolom mercatorY dari data dengan index tanggal 2020-03-01\n",
        "    'dat'       : df.new_cases, #define dat dengan kolom new_cases dari data dengan index tanggal 2020-03-01\n",
        "    'nama'      : nam #define nama dengan nama kolom new_cases \n",
        "})"
      ],
      "metadata": {
        "id": "TO6WWEqXGHKo"
      },
      "execution_count": null,
      "outputs": []
    },
    {
      "cell_type": "markdown",
      "source": [
        "#Mapper color, define figure (map), dan define scatterplot(circle)"
      ],
      "metadata": {
        "id": "JDA-pbO4JfXD"
      }
    },
    {
      "cell_type": "code",
      "source": [
        "#mapper adalah list color dimana akan berwarna merah jika nilai dari data sekitar 800000 dan berwarna biru jika bernilai mendekati 0\n",
        "mapper = linear_cmap('dat', Spectral6 , 0 , 849875)\n",
        "\n",
        "#menampilkan peta pada visualisasi data\n",
        "p = figure(plot_width=900, plot_height=700,\n",
        "           x_range=(ind_lon1, ind_lon2), y_range=(ind_lat1, ind_lat2),\n",
        "           x_axis_type=\"mercator\", y_axis_type=\"mercator\",\n",
        "           tooltips=[\n",
        "                    (\"Data\", \"@nama\"), (\"Jumlah\", \"@dat\") #menampilkan data tiap kolom/data yang diselect\n",
        "                    ],\n",
        "           title=\"Covid in Indonesia\")\n",
        "\n",
        "p.add_tile(cartodb)\n",
        "#plotting scatter plot (circle)\n",
        "p.circle(x='x', y='y',\n",
        "         size=10,\n",
        "         line_color=mapper, color=mapper,\n",
        "         fill_alpha=1.0,\n",
        "         source=source)\n",
        "#menampilkan color bar\n",
        "color_bar = ColorBar(color_mapper=mapper['transform'], width=8)\n",
        "\n",
        "p.add_layout(color_bar, 'right')\n"
      ],
      "metadata": {
        "id": "8b1lvubXGK8T"
      },
      "execution_count": null,
      "outputs": []
    },
    {
      "cell_type": "markdown",
      "source": [
        "#Function update plot dan data"
      ],
      "metadata": {
        "id": "nPefQjCuJnz9"
      }
    },
    {
      "cell_type": "code",
      "source": [
        "def update_plot(attr, old, new):\n",
        "    df = data[data.index == str(dPicker.value)] #update 'df' dengan data dari index date yang di select oleh fitur datepicker\n",
        "    nam = []\n",
        "    for i in df.new_cases:\n",
        "        nam.append(str(data_select.value)) #update var nam\n",
        "    source.data = {\n",
        "        'x'         : df.MercatorX, #update x dengan kolom mercatorX dari data index date yang di select oleh fitur datepicker\n",
        "        'y'         : df.MercatorY, #define y dengan kolom mercatorY dari data index date yang di select oleh fitur datepicker\n",
        "        'dat'       : df[data_select.value], #update dat dengan kolom new_cases dari data kolom yang diselect pada fitur dropdwon select\n",
        "        'nama'      : nam #update nama dengan nama kolom sesuai dengan kolom yang diselect\n",
        "    }"
      ],
      "metadata": {
        "id": "c4VsResPI-R8"
      },
      "execution_count": null,
      "outputs": []
    },
    {
      "cell_type": "markdown",
      "source": [
        "#Define fitur interaktif"
      ],
      "metadata": {
        "id": "60tMMuc8JspD"
      }
    },
    {
      "cell_type": "code",
      "source": [
        "#define fitur interaktif date picker\n",
        "dPicker = DatePicker(\n",
        "    title = 'Date',\n",
        "    value=dt.datetime(2020, 3, 1).date(), \n",
        "    min_date= dt.datetime(2020, 3, 1).date(), max_date=dt.datetime(2021, 12, 3).date()\n",
        ")\n",
        "\n",
        "dPicker.on_change('value', update_plot)\n",
        "\n",
        "#define fitur interaktif dropdown dan select\n",
        "data_select = Select(\n",
        "    options=['new_cases', 'new_deaths',\t'new_recovered', 'new_activeCases', 'total_cases', 'total_deaths',\t'total_recovered', 'total_activeCases'],\n",
        "    value='new_cases',\n",
        "    title='x-axis data'\n",
        ")\n",
        "\n",
        "data_select.on_change('value', update_plot)"
      ],
      "metadata": {
        "id": "FZxElNYRJBNt"
      },
      "execution_count": null,
      "outputs": []
    },
    {
      "cell_type": "markdown",
      "source": [
        "#Membuat layout"
      ],
      "metadata": {
        "id": "5ChheOPmJvq7"
      }
    },
    {
      "cell_type": "code",
      "source": [
        "#memasukan seluruh fitur interaktif dan juga plotingan kedalam layout\n",
        "layout = row(widgetbox(dPicker, data_select), p) \n",
        "curdoc().add_root(layout)"
      ],
      "metadata": {
        "id": "BZvjEwhLJDM6"
      },
      "execution_count": null,
      "outputs": []
    },
    {
      "cell_type": "markdown",
      "source": [
        "#Penjelasan\n",
        "\n",
        "\n",
        "\n",
        "1.   Alasan kami menggunakan DatePicker dibanding menggunakan slide adalah karna data yang kami gunakan adalah data per-hari dalam rentang 2020-2021 sehingga apabila menggunakan slider untuk memilih tanggal hal tersebut tidak efisien dan sulit untuk memilih tanggal tertentu\n",
        "2.   Alasan kami melakukan visualisasi dalam geospatial/map interaktif dibanding tipe visualisasi lain seperti scatter atau line adalah \n",
        "\n",
        "      *   data yang kami miliki merupakan data per-provinsi dengan jumlah data yang sangat banyak\n",
        "      *   jika dilihat pada kolom date terdapat data yang berbeda dengan tanggal yang sama (dalam satu tanggal misal 2021-07-17 terdapat data yang berbeda dari daerah yang berbeda juga\n",
        "\n",
        " sehingga bentuk dari visualisasi dengan scatter atau line plot kurang memberikan isi dari visualisasi dataset covid. Jika menggunakan map catodbpositron ini maka kami akan mendapatkan visualisasi daerah mana saja yang terdampak covid dengan intensitas yang tinggi dan rendah, selain itu juga memudahkan kita mendapatkan insight dengan tipe visualisasi seperti ini\n",
        "\n"
      ],
      "metadata": {
        "id": "w7JAWo77KiRr"
      }
    }
  ]
}